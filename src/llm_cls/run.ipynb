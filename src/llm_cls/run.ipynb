{
 "cells": [
  {
   "cell_type": "code",
   "execution_count": null,
   "metadata": {},
   "outputs": [
    {
     "ename": "",
     "evalue": "",
     "output_type": "error",
     "traceback": [
      "\u001b[1;31mRunning cells with 'lf' requires the ipykernel package.\n",
      "\u001b[1;31mRun the following command to install 'ipykernel' into the Python environment. \n",
      "\u001b[1;31mCommand: 'conda install -n lf ipykernel --update-deps --force-reinstall'"
     ]
    }
   ],
   "source": [
    "MODEL_NAME_OR_PATH='xlm-roberta-large'\n",
    "DATASET_NAME='presencesw/vinli_3_label'\n",
    "DATASET = DATASET_NAME.split(\"/\")[1]\n",
    "OUTPUT_DIR=f'output/{MODEL_NAME_OR_PATH}/{DATASET}'\n",
    "RUN_NAME=f\"{MODEL_NAME_OR_PATH}--{DATASET}\"\n",
    "BZ=14\n",
    "GRA_ACC=8\n",
    "\n",
    "!accelerate launch --num_processes 1 --gpu_ids 0 -m loss_nli.training \\\n",
    "    --num_labels 3 \\\n",
    "    --model_name_or_path $MODEL_NAME_OR_PATH \\\n",
    "    --dataset_name $DATASET_NAME \\\n",
    "    --output_dir $OUTPUT_DIR \\\n",
    "    --do_train \\\n",
    "    --train_dir 'data/finetune/train' \\\n",
    "    --do_eval \\\n",
    "    --valid_dir 'data/finetune/validation' \\\n",
    "    --per_device_train_batch_size $BZ \\\n",
    "    --per_device_train_batch_size $BZ \\\n",
    "    --gradient_accumulation_steps $GRA_ACC \\\n",
    "    --num_train_epochs 15 \\\n",
    "    --evaluation_strategy 'epoch' \\\n",
    "    --save_strategy 'epoch' \\\n",
    "    --logging_strategy 'epoch' \\\n",
    "    --overwrite_output_dir \\\n",
    "    --loss_func_name 'cross' \\\n",
    "    --load_best_model_at_end \\\n",
    "    --save_total_limit 1 \\\n",
    "    --overwrite_output_dir \\\n",
    "    --run_name $RUN_NAME \\\n",
    "    --save_only_model \\\n",
    "    --lr_scheduler_type \"constant\" \\\n",
    "    --learning_rate \"1e-3\""
   ]
  }
 ],
 "metadata": {
  "kernelspec": {
   "display_name": "lf",
   "language": "python",
   "name": "python3"
  },
  "language_info": {
   "name": "python",
   "version": "3.10.8"
  }
 },
 "nbformat": 4,
 "nbformat_minor": 2
}
